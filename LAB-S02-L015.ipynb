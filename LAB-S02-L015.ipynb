{
 "cells": [
  {
   "cell_type": "code",
   "execution_count": 1,
   "id": "81b15e61",
   "metadata": {},
   "outputs": [],
   "source": [
    "import pandas as pd\n"
   ]
  },
  {
   "cell_type": "code",
   "execution_count": 3,
   "id": "fe9103e5",
   "metadata": {},
   "outputs": [],
   "source": [
    "fortune500=pd.read_csv('data/Fortune_500_2017.csv',usecols=['Rank','Title'],index_col='Rank',squeeze=True)"
   ]
  },
  {
   "cell_type": "code",
   "execution_count": 4,
   "id": "22eb0ab5",
   "metadata": {},
   "outputs": [
    {
     "data": {
      "text/plain": [
       "Rank\n",
       "1                 Walmart\n",
       "2      Berkshire Hathaway\n",
       "3                   Apple\n",
       "4             Exxon Mobil\n",
       "5                McKesson\n",
       "              ...        \n",
       "496         Michaels Cos.\n",
       "497         Toll Brothers\n",
       "498                 Yahoo\n",
       "499         Vistra Energy\n",
       "500        ABM Industries\n",
       "Name: Title, Length: 500, dtype: object"
      ]
     },
     "execution_count": 4,
     "metadata": {},
     "output_type": "execute_result"
    }
   ],
   "source": [
    "fortune500\n"
   ]
  },
  {
   "cell_type": "code",
   "execution_count": 5,
   "id": "60f50826",
   "metadata": {},
   "outputs": [
    {
     "data": {
      "text/plain": [
       "Rank\n",
       "1                Walmart\n",
       "2     Berkshire Hathaway\n",
       "3                  Apple\n",
       "4            Exxon Mobil\n",
       "5               McKesson\n",
       "6     UnitedHealth Group\n",
       "7             CVS Health\n",
       "8         General Motors\n",
       "9                   AT&T\n",
       "10            Ford Motor\n",
       "Name: Title, dtype: object"
      ]
     },
     "execution_count": 5,
     "metadata": {},
     "output_type": "execute_result"
    }
   ],
   "source": [
    "fortune500.head(10)"
   ]
  },
  {
   "cell_type": "code",
   "execution_count": 6,
   "id": "85a4ebb4",
   "metadata": {},
   "outputs": [
    {
     "data": {
      "text/plain": [
       "Rank\n",
       "481           Booz Allen Hamilton Holding\n",
       "482                              Chemours\n",
       "483    Western & Southern Financial Group\n",
       "484                              Celanese\n",
       "485                   Windstream Holdings\n",
       "486                              Seaboard\n",
       "487                             Essendant\n",
       "488                                Apache\n",
       "489                                Airgas\n",
       "490                        Kelly Services\n",
       "491                         Liberty Media\n",
       "492                      Rockwell Collins\n",
       "493             Robert Half International\n",
       "494                             CH2M Hill\n",
       "495                              Big Lots\n",
       "496                         Michaels Cos.\n",
       "497                         Toll Brothers\n",
       "498                                 Yahoo\n",
       "499                         Vistra Energy\n",
       "500                        ABM Industries\n",
       "Name: Title, dtype: object"
      ]
     },
     "execution_count": 6,
     "metadata": {},
     "output_type": "execute_result"
    }
   ],
   "source": [
    "fortune500.tail(20)"
   ]
  },
  {
   "cell_type": "code",
   "execution_count": 7,
   "id": "8a53d386",
   "metadata": {},
   "outputs": [],
   "source": [
    "fortune500b=pd.read_csv('data/Fortune_500_2017.csv',usecols=['Employees','Title'],index_col='Title',squeeze=True)"
   ]
  },
  {
   "cell_type": "code",
   "execution_count": 8,
   "id": "365eb9fb",
   "metadata": {},
   "outputs": [],
   "source": [
    "firmy=['IBM','Alphabet','Facebook','Apple']"
   ]
  },
  {
   "cell_type": "code",
   "execution_count": 9,
   "id": "3013a366",
   "metadata": {},
   "outputs": [
    {
     "data": {
      "text/plain": [
       "Title\n",
       "IBM         414400\n",
       "Alphabet     72053\n",
       "Facebook     17048\n",
       "Apple       116000\n",
       "Name: Employees, dtype: int64"
      ]
     },
     "execution_count": 9,
     "metadata": {},
     "output_type": "execute_result"
    }
   ],
   "source": [
    "fortune500b.loc[firmy]"
   ]
  },
  {
   "cell_type": "code",
   "execution_count": 10,
   "id": "6fc9331b",
   "metadata": {},
   "outputs": [
    {
     "data": {
      "text/plain": [
       "Title\n",
       "IBM                          414400\n",
       "State Farm Insurance Cos.     68234\n",
       "Phillips 66                   14800\n",
       "Johnson & Johnson            126400\n",
       "Procter & Gamble             105000\n",
       "Valero Energy                  9996\n",
       "Target                       323000\n",
       "Freddie Mac                    5982\n",
       "Lowe’s                       240000\n",
       "Dell Technologies            138000\n",
       "MetLife                       58000\n",
       "Aetna                         49500\n",
       "PepsiCo                      264000\n",
       "Archer Daniels Midland        31800\n",
       "UPS                          335520\n",
       "Intel                        106000\n",
       "Name: Employees, dtype: int64"
      ]
     },
     "execution_count": 10,
     "metadata": {},
     "output_type": "execute_result"
    }
   ],
   "source": [
    "fortune500b.loc['IBM':'Intel']"
   ]
  },
  {
   "cell_type": "code",
   "execution_count": null,
   "id": "c37495ba",
   "metadata": {},
   "outputs": [],
   "source": []
  }
 ],
 "metadata": {
  "kernelspec": {
   "display_name": "Python 3",
   "language": "python",
   "name": "python3"
  },
  "language_info": {
   "codemirror_mode": {
    "name": "ipython",
    "version": 3
   },
   "file_extension": ".py",
   "mimetype": "text/x-python",
   "name": "python",
   "nbconvert_exporter": "python",
   "pygments_lexer": "ipython3",
   "version": "3.8.8"
  }
 },
 "nbformat": 4,
 "nbformat_minor": 5
}
