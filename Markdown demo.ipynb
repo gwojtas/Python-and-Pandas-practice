{
 "cells": [
  {
   "cell_type": "code",
   "execution_count": 1,
   "metadata": {},
   "outputs": [
    {
     "name": "stdout",
     "output_type": "stream",
     "text": [
      "hello\n"
     ]
    }
   ],
   "source": [
    "print('hello')"
   ]
  },
  {
   "cell_type": "markdown",
   "metadata": {},
   "source": [
    "# Important Modules in Data nalyssis with Python\n",
    "![odnosnik](./obraz.jpg)\n",
    "##  Pandas\n",
    " - wer\n",
    " - erwrw\n",
    " -[more details](www.www.pl)\n",
    " \n",
    "## Numpy\n",
    "![odnosnik2 z www](http://www.numpy.org/_static/numpy_logo.png)\n",
    "1. sda\n",
    "2. sd\n",
    "3. *open source*\n",
    "4. **dsdsadas**"
   ]
  },
  {
   "cell_type": "code",
   "execution_count": null,
   "metadata": {},
   "outputs": [],
   "source": []
  }
 ],
 "metadata": {
  "kernelspec": {
   "display_name": "Python 3",
   "language": "python",
   "name": "python3"
  },
  "language_info": {
   "codemirror_mode": {
    "name": "ipython",
    "version": 3
   },
   "file_extension": ".py",
   "mimetype": "text/x-python",
   "name": "python",
   "nbconvert_exporter": "python",
   "pygments_lexer": "ipython3",
   "version": "3.8.5"
  }
 },
 "nbformat": 4,
 "nbformat_minor": 4
}
