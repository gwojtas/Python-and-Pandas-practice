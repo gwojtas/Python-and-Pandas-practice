{
 "cells": [
  {
   "cell_type": "code",
   "execution_count": 23,
   "id": "43d1e10c",
   "metadata": {},
   "outputs": [],
   "source": [
    "import numpy as np\n",
    "import cv2\n",
    "from matplotlib import pyplot as plt\n",
    "from copy import deepcopy"
   ]
  },
  {
   "cell_type": "code",
   "execution_count": 3,
   "id": "38523117",
   "metadata": {},
   "outputs": [],
   "source": [
    "# chapter 2: Basic operations on images\n"
   ]
  },
  {
   "cell_type": "code",
   "execution_count": 30,
   "id": "02933905",
   "metadata": {},
   "outputs": [],
   "source": [
    "img=cv2.imread('im0.jpg',0)"
   ]
  },
  {
   "cell_type": "code",
   "execution_count": 5,
   "id": "f8b19f71",
   "metadata": {},
   "outputs": [
    {
     "data": {
      "text/plain": [
       "array([[150, 150, 150, ..., 174, 175, 173],\n",
       "       [148, 148, 148, ..., 174, 174, 173],\n",
       "       [149, 146, 145, ..., 173, 173, 172],\n",
       "       ...,\n",
       "       [ 34,  33,  34, ...,  25,  25,  23],\n",
       "       [ 35,  34,  34, ...,  25,  23,  23],\n",
       "       [ 34,  34,  34, ...,  25,  25,  25]], dtype=uint8)"
      ]
     },
     "execution_count": 5,
     "metadata": {},
     "output_type": "execute_result"
    }
   ],
   "source": [
    "img"
   ]
  },
  {
   "cell_type": "code",
   "execution_count": 31,
   "id": "426e026d",
   "metadata": {},
   "outputs": [],
   "source": [
    "def wind(image):\n",
    "    cv2.namedWindow('image',cv2.WINDOW_NORMAL)\n",
    "    cv2.imshow('image',image)\n",
    "    cv2.waitKey(0)\n",
    "    cv2.destroyAllWindows()"
   ]
  },
  {
   "cell_type": "code",
   "execution_count": 13,
   "id": "57aafcec",
   "metadata": {},
   "outputs": [],
   "source": [
    "wind(img)"
   ]
  },
  {
   "cell_type": "code",
   "execution_count": 32,
   "id": "5f29e37a",
   "metadata": {},
   "outputs": [],
   "source": [
    "imgCol=cv2.imread('im0.jpg',1)"
   ]
  },
  {
   "cell_type": "code",
   "execution_count": 33,
   "id": "1d04131d",
   "metadata": {},
   "outputs": [],
   "source": [
    "wind(imgCol)"
   ]
  },
  {
   "cell_type": "code",
   "execution_count": 35,
   "id": "fca3131a",
   "metadata": {},
   "outputs": [],
   "source": [
    "imgCol1=deepcopy(imgCol)\n",
    "circle=cv2.circle(imgCol1,(600,200),100,(125,50,39),2)\n",
    "wind(circle)"
   ]
  },
  {
   "cell_type": "code",
   "execution_count": 36,
   "id": "cc839a63",
   "metadata": {},
   "outputs": [],
   "source": [
    "#2.2 splittind channels\n"
   ]
  },
  {
   "cell_type": "code",
   "execution_count": 37,
   "id": "78c1d73e",
   "metadata": {},
   "outputs": [],
   "source": [
    "wind(imgCol)"
   ]
  },
  {
   "cell_type": "code",
   "execution_count": 38,
   "id": "c0ab9877",
   "metadata": {},
   "outputs": [],
   "source": [
    "b,g,r = cv2.split(imgCol)"
   ]
  },
  {
   "cell_type": "code",
   "execution_count": 39,
   "id": "bce47e74",
   "metadata": {},
   "outputs": [],
   "source": [
    "a=1"
   ]
  },
  {
   "cell_type": "code",
   "execution_count": 40,
   "id": "10de53e9",
   "metadata": {},
   "outputs": [],
   "source": [
    "wind(r)"
   ]
  },
  {
   "cell_type": "code",
   "execution_count": 41,
   "id": "4aec2e14",
   "metadata": {},
   "outputs": [],
   "source": [
    "wind(r-b)"
   ]
  },
  {
   "cell_type": "code",
   "execution_count": 42,
   "id": "7c452d84",
   "metadata": {},
   "outputs": [],
   "source": [
    "wind(r+b)"
   ]
  },
  {
   "cell_type": "code",
   "execution_count": 43,
   "id": "ed661e1e",
   "metadata": {},
   "outputs": [],
   "source": [
    "wind(r*b)"
   ]
  },
  {
   "cell_type": "code",
   "execution_count": 44,
   "id": "84b28940",
   "metadata": {},
   "outputs": [],
   "source": [
    "wind(img)"
   ]
  },
  {
   "cell_type": "code",
   "execution_count": 47,
   "id": "aad4d849",
   "metadata": {},
   "outputs": [],
   "source": [
    "imgcol2=cv2.merge((b,g,r))"
   ]
  },
  {
   "cell_type": "code",
   "execution_count": 48,
   "id": "2fd4cd52",
   "metadata": {},
   "outputs": [],
   "source": [
    "wind(imgCol)"
   ]
  },
  {
   "cell_type": "code",
   "execution_count": 53,
   "id": "51747691",
   "metadata": {},
   "outputs": [],
   "source": [
    "wind(r+b)"
   ]
  },
  {
   "cell_type": "code",
   "execution_count": 55,
   "id": "4c0d41fb",
   "metadata": {},
   "outputs": [],
   "source": [
    "wind(g*3)"
   ]
  },
  {
   "cell_type": "code",
   "execution_count": null,
   "id": "0b0ea5ed",
   "metadata": {},
   "outputs": [],
   "source": []
  }
 ],
 "metadata": {
  "kernelspec": {
   "display_name": "Python 3 (ipykernel)",
   "language": "python",
   "name": "python3"
  },
  "language_info": {
   "codemirror_mode": {
    "name": "ipython",
    "version": 3
   },
   "file_extension": ".py",
   "mimetype": "text/x-python",
   "name": "python",
   "nbconvert_exporter": "python",
   "pygments_lexer": "ipython3",
   "version": "3.8.11"
  }
 },
 "nbformat": 4,
 "nbformat_minor": 5
}
