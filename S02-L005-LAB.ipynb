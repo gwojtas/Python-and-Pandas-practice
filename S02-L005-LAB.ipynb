{
 "cells": [
  {
   "cell_type": "code",
   "execution_count": 1,
   "id": "2f528619",
   "metadata": {},
   "outputs": [],
   "source": [
    "import pandas as pd\n",
    "import numpy as np\n",
    "import matplotlib.pyplot as plt\n",
    "import math as math"
   ]
  },
  {
   "cell_type": "code",
   "execution_count": 10,
   "id": "e5712901",
   "metadata": {},
   "outputs": [],
   "source": [
    "cities=['Shanghai','Beijing','Istanbul']\n",
    "population=[24183300,20794100,15030000]"
   ]
  },
  {
   "cell_type": "code",
   "execution_count": 11,
   "id": "a70eba1d",
   "metadata": {},
   "outputs": [],
   "source": [
    "citypop=pd.Series(population,cities)"
   ]
  },
  {
   "cell_type": "code",
   "execution_count": 6,
   "id": "e922fca1",
   "metadata": {},
   "outputs": [
    {
     "data": {
      "text/plain": [
       "Shanghai    24183300\n",
       "Beijing     20794100\n",
       "Istanbul     1503000\n",
       "dtype: int64"
      ]
     },
     "execution_count": 6,
     "metadata": {},
     "output_type": "execute_result"
    }
   ],
   "source": [
    "citypop"
   ]
  },
  {
   "cell_type": "code",
   "execution_count": 7,
   "id": "2eb780cf",
   "metadata": {},
   "outputs": [],
   "source": [
    "citypop2=pd.Series(index=cities,data=population)"
   ]
  },
  {
   "cell_type": "code",
   "execution_count": 8,
   "id": "716c5979",
   "metadata": {},
   "outputs": [
    {
     "data": {
      "text/plain": [
       "Shanghai    24183300\n",
       "Beijing     20794100\n",
       "Istanbul     1503000\n",
       "dtype: int64"
      ]
     },
     "execution_count": 8,
     "metadata": {},
     "output_type": "execute_result"
    }
   ],
   "source": [
    "citypop2"
   ]
  },
  {
   "cell_type": "code",
   "execution_count": 12,
   "id": "c0c1f918",
   "metadata": {},
   "outputs": [
    {
     "data": {
      "text/plain": [
       "60007400"
      ]
     },
     "execution_count": 12,
     "metadata": {},
     "output_type": "execute_result"
    }
   ],
   "source": [
    "citypop.sum()"
   ]
  },
  {
   "cell_type": "code",
   "execution_count": 13,
   "id": "b19f01fc",
   "metadata": {},
   "outputs": [
    {
     "data": {
      "text/plain": [
       "20002466.666666668"
      ]
     },
     "execution_count": 13,
     "metadata": {},
     "output_type": "execute_result"
    }
   ],
   "source": [
    "citypop.mean()"
   ]
  },
  {
   "cell_type": "code",
   "execution_count": 14,
   "id": "b07afb81",
   "metadata": {},
   "outputs": [
    {
     "data": {
      "text/plain": [
       "[24183300, 20794100, 15030000]"
      ]
     },
     "execution_count": 14,
     "metadata": {},
     "output_type": "execute_result"
    }
   ],
   "source": [
    "citypop.tolist()"
   ]
  },
  {
   "cell_type": "code",
   "execution_count": 15,
   "id": "df46ff6d",
   "metadata": {},
   "outputs": [
    {
     "data": {
      "text/plain": [
       "Index(['Shanghai', 'Beijing', 'Istanbul'], dtype='object')"
      ]
     },
     "execution_count": 15,
     "metadata": {},
     "output_type": "execute_result"
    }
   ],
   "source": [
    "citypop.index"
   ]
  },
  {
   "cell_type": "code",
   "execution_count": 16,
   "id": "a5b8eb63",
   "metadata": {},
   "outputs": [
    {
     "data": {
      "text/plain": [
       "Index(['Shanghai', 'Beijing', 'Istanbul'], dtype='object')"
      ]
     },
     "execution_count": 16,
     "metadata": {},
     "output_type": "execute_result"
    }
   ],
   "source": [
    "citypop.keys()"
   ]
  },
  {
   "cell_type": "code",
   "execution_count": 17,
   "id": "338a3a85",
   "metadata": {},
   "outputs": [
    {
     "data": {
      "text/plain": [
       "array([24183300, 20794100, 15030000], dtype=int64)"
      ]
     },
     "execution_count": 17,
     "metadata": {},
     "output_type": "execute_result"
    }
   ],
   "source": [
    "citypop.values"
   ]
  },
  {
   "cell_type": "code",
   "execution_count": null,
   "id": "46b4b3bc",
   "metadata": {},
   "outputs": [],
   "source": []
  }
 ],
 "metadata": {
  "kernelspec": {
   "display_name": "Python 3",
   "language": "python",
   "name": "python3"
  },
  "language_info": {
   "codemirror_mode": {
    "name": "ipython",
    "version": 3
   },
   "file_extension": ".py",
   "mimetype": "text/x-python",
   "name": "python",
   "nbconvert_exporter": "python",
   "pygments_lexer": "ipython3",
   "version": "3.8.8"
  }
 },
 "nbformat": 4,
 "nbformat_minor": 5
}
