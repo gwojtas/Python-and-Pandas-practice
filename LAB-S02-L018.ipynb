{
 "cells": [
  {
   "cell_type": "code",
   "execution_count": 1,
   "id": "624e6d05",
   "metadata": {},
   "outputs": [],
   "source": [
    "import pandas as pd\n",
    "import random as rd"
   ]
  },
  {
   "cell_type": "code",
   "execution_count": 2,
   "id": "5f9bb4ad",
   "metadata": {},
   "outputs": [],
   "source": [
    "samoloty = {'PYT001':'Airbus 320','PYT02': 'Boeing 737','PYT003':'Airbus 321'}"
   ]
  },
  {
   "cell_type": "code",
   "execution_count": 4,
   "id": "81d2443b",
   "metadata": {},
   "outputs": [],
   "source": [
    "aircrafts = pd.Series(samoloty)"
   ]
  },
  {
   "cell_type": "code",
   "execution_count": 5,
   "id": "1070eed6",
   "metadata": {},
   "outputs": [],
   "source": [
    "flightsList = []"
   ]
  },
  {
   "cell_type": "code",
   "execution_count": 7,
   "id": "c06b51e5",
   "metadata": {},
   "outputs": [],
   "source": [
    "for  i in range  (100):\n",
    "    flightsList.append(rd.choice(aircrafts.index))"
   ]
  },
  {
   "cell_type": "code",
   "execution_count": 8,
   "id": "c2752a22",
   "metadata": {},
   "outputs": [
    {
     "data": {
      "text/plain": [
       "['PYT001', 'PYT02', 'PYT02', 'PYT003', 'PYT02']"
      ]
     },
     "execution_count": 8,
     "metadata": {},
     "output_type": "execute_result"
    }
   ],
   "source": [
    "flightsList [:5]"
   ]
  },
  {
   "cell_type": "code",
   "execution_count": 9,
   "id": "7ab72a57",
   "metadata": {},
   "outputs": [
    {
     "data": {
      "text/plain": [
       "0    PYT001\n",
       "1     PYT02\n",
       "2     PYT02\n",
       "3    PYT003\n",
       "4     PYT02\n",
       "dtype: object"
      ]
     },
     "execution_count": 9,
     "metadata": {},
     "output_type": "execute_result"
    }
   ],
   "source": [
    "flights = pd.Series(flightsList)\n",
    "flights.head()"
   ]
  },
  {
   "cell_type": "code",
   "execution_count": 10,
   "id": "89855f9a",
   "metadata": {},
   "outputs": [
    {
     "data": {
      "text/plain": [
       "0    Airbus 320\n",
       "1    Boeing 737\n",
       "2    Boeing 737\n",
       "3    Airbus 321\n",
       "4    Boeing 737\n",
       "dtype: object"
      ]
     },
     "execution_count": 10,
     "metadata": {},
     "output_type": "execute_result"
    }
   ],
   "source": [
    "flights_aircrafts=flights.map(aircrafts)\n",
    "flights_aircrafts.head()"
   ]
  },
  {
   "cell_type": "code",
   "execution_count": null,
   "id": "f6f3a01c",
   "metadata": {},
   "outputs": [],
   "source": []
  }
 ],
 "metadata": {
  "kernelspec": {
   "display_name": "Python 3",
   "language": "python",
   "name": "python3"
  },
  "language_info": {
   "codemirror_mode": {
    "name": "ipython",
    "version": 3
   },
   "file_extension": ".py",
   "mimetype": "text/x-python",
   "name": "python",
   "nbconvert_exporter": "python",
   "pygments_lexer": "ipython3",
   "version": "3.8.8"
  }
 },
 "nbformat": 4,
 "nbformat_minor": 5
}
