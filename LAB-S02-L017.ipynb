{
 "cells": [
  {
   "cell_type": "code",
   "execution_count": 1,
   "id": "320242db",
   "metadata": {},
   "outputs": [],
   "source": [
    "import pandas as pd"
   ]
  },
  {
   "cell_type": "code",
   "execution_count": 5,
   "id": "76a66b81",
   "metadata": {},
   "outputs": [],
   "source": [
    "surveys=pd.read_csv('data/StackOverflowDeveloperSurvey.csv',usecols=['Salary'],squeeze=Truelow_memory=False).dropna()"
   ]
  },
  {
   "cell_type": "code",
   "execution_count": 6,
   "id": "cf69aeda",
   "metadata": {},
   "outputs": [
    {
     "data": {
      "text/html": [
       "<div>\n",
       "<style scoped>\n",
       "    .dataframe tbody tr th:only-of-type {\n",
       "        vertical-align: middle;\n",
       "    }\n",
       "\n",
       "    .dataframe tbody tr th {\n",
       "        vertical-align: top;\n",
       "    }\n",
       "\n",
       "    .dataframe thead th {\n",
       "        text-align: right;\n",
       "    }\n",
       "</style>\n",
       "<table border=\"1\" class=\"dataframe\">\n",
       "  <thead>\n",
       "    <tr style=\"text-align: right;\">\n",
       "      <th></th>\n",
       "      <th>Salary</th>\n",
       "    </tr>\n",
       "  </thead>\n",
       "  <tbody>\n",
       "    <tr>\n",
       "      <th>2</th>\n",
       "      <td>113750.0</td>\n",
       "    </tr>\n",
       "    <tr>\n",
       "      <th>14</th>\n",
       "      <td>100000.0</td>\n",
       "    </tr>\n",
       "    <tr>\n",
       "      <th>17</th>\n",
       "      <td>130000.0</td>\n",
       "    </tr>\n",
       "    <tr>\n",
       "      <th>18</th>\n",
       "      <td>82500.0</td>\n",
       "    </tr>\n",
       "    <tr>\n",
       "      <th>22</th>\n",
       "      <td>100764.0</td>\n",
       "    </tr>\n",
       "  </tbody>\n",
       "</table>\n",
       "</div>"
      ],
      "text/plain": [
       "      Salary\n",
       "2   113750.0\n",
       "14  100000.0\n",
       "17  130000.0\n",
       "18   82500.0\n",
       "22  100764.0"
      ]
     },
     "execution_count": 6,
     "metadata": {},
     "output_type": "execute_result"
    }
   ],
   "source": [
    "surveys.head()"
   ]
  },
  {
   "cell_type": "code",
   "execution_count": 7,
   "id": "aa80c966",
   "metadata": {},
   "outputs": [
    {
     "ename": "NameError",
     "evalue": "name 'survyes' is not defined",
     "output_type": "error",
     "traceback": [
      "\u001b[1;31m---------------------------------------------------------------------------\u001b[0m",
      "\u001b[1;31mNameError\u001b[0m                                 Traceback (most recent call last)",
      "\u001b[1;32m<ipython-input-7-57320685c4fb>\u001b[0m in \u001b[0;36m<module>\u001b[1;34m\u001b[0m\n\u001b[1;32m----> 1\u001b[1;33m \u001b[0msurvyes\u001b[0m\u001b[1;33m.\u001b[0m\u001b[0mcount\u001b[0m\u001b[1;33m(\u001b[0m\u001b[1;33m)\u001b[0m\u001b[1;33m\u001b[0m\u001b[1;33m\u001b[0m\u001b[0m\n\u001b[0m",
      "\u001b[1;31mNameError\u001b[0m: name 'survyes' is not defined"
     ]
    }
   ],
   "source": [
    "survyes.count()"
   ]
  },
  {
   "cell_type": "code",
   "execution_count": 8,
   "id": "1ba2179c",
   "metadata": {},
   "outputs": [
    {
     "data": {
      "text/plain": [
       "12891"
      ]
     },
     "execution_count": 8,
     "metadata": {},
     "output_type": "execute_result"
    }
   ],
   "source": [
    "len(surveys)"
   ]
  },
  {
   "cell_type": "code",
   "execution_count": 12,
   "id": "47a297ef",
   "metadata": {},
   "outputs": [],
   "source": [
    "surveysIncrease=surveys*0.03"
   ]
  },
  {
   "cell_type": "code",
   "execution_count": 13,
   "id": "afa9ab00",
   "metadata": {},
   "outputs": [
    {
     "data": {
      "text/html": [
       "<div>\n",
       "<style scoped>\n",
       "    .dataframe tbody tr th:only-of-type {\n",
       "        vertical-align: middle;\n",
       "    }\n",
       "\n",
       "    .dataframe tbody tr th {\n",
       "        vertical-align: top;\n",
       "    }\n",
       "\n",
       "    .dataframe thead th {\n",
       "        text-align: right;\n",
       "    }\n",
       "</style>\n",
       "<table border=\"1\" class=\"dataframe\">\n",
       "  <thead>\n",
       "    <tr style=\"text-align: right;\">\n",
       "      <th></th>\n",
       "      <th>Salary</th>\n",
       "    </tr>\n",
       "  </thead>\n",
       "  <tbody>\n",
       "    <tr>\n",
       "      <th>2</th>\n",
       "      <td>3412.50</td>\n",
       "    </tr>\n",
       "    <tr>\n",
       "      <th>14</th>\n",
       "      <td>3000.00</td>\n",
       "    </tr>\n",
       "    <tr>\n",
       "      <th>17</th>\n",
       "      <td>3900.00</td>\n",
       "    </tr>\n",
       "    <tr>\n",
       "      <th>18</th>\n",
       "      <td>2475.00</td>\n",
       "    </tr>\n",
       "    <tr>\n",
       "      <th>22</th>\n",
       "      <td>3022.92</td>\n",
       "    </tr>\n",
       "  </tbody>\n",
       "</table>\n",
       "</div>"
      ],
      "text/plain": [
       "     Salary\n",
       "2   3412.50\n",
       "14  3000.00\n",
       "17  3900.00\n",
       "18  2475.00\n",
       "22  3022.92"
      ]
     },
     "execution_count": 13,
     "metadata": {},
     "output_type": "execute_result"
    }
   ],
   "source": [
    "surveysIncrease.head()"
   ]
  },
  {
   "cell_type": "code",
   "execution_count": 16,
   "id": "d176a37a",
   "metadata": {},
   "outputs": [],
   "source": [
    "surveysAfterIncrease = surveys + surveysIncrease"
   ]
  },
  {
   "cell_type": "code",
   "execution_count": 17,
   "id": "490d59a7",
   "metadata": {},
   "outputs": [
    {
     "data": {
      "text/html": [
       "<div>\n",
       "<style scoped>\n",
       "    .dataframe tbody tr th:only-of-type {\n",
       "        vertical-align: middle;\n",
       "    }\n",
       "\n",
       "    .dataframe tbody tr th {\n",
       "        vertical-align: top;\n",
       "    }\n",
       "\n",
       "    .dataframe thead th {\n",
       "        text-align: right;\n",
       "    }\n",
       "</style>\n",
       "<table border=\"1\" class=\"dataframe\">\n",
       "  <thead>\n",
       "    <tr style=\"text-align: right;\">\n",
       "      <th></th>\n",
       "      <th>Salary</th>\n",
       "    </tr>\n",
       "  </thead>\n",
       "  <tbody>\n",
       "    <tr>\n",
       "      <th>2</th>\n",
       "      <td>117162.50</td>\n",
       "    </tr>\n",
       "    <tr>\n",
       "      <th>14</th>\n",
       "      <td>103000.00</td>\n",
       "    </tr>\n",
       "    <tr>\n",
       "      <th>17</th>\n",
       "      <td>133900.00</td>\n",
       "    </tr>\n",
       "    <tr>\n",
       "      <th>18</th>\n",
       "      <td>84975.00</td>\n",
       "    </tr>\n",
       "    <tr>\n",
       "      <th>22</th>\n",
       "      <td>103786.92</td>\n",
       "    </tr>\n",
       "  </tbody>\n",
       "</table>\n",
       "</div>"
      ],
      "text/plain": [
       "       Salary\n",
       "2   117162.50\n",
       "14  103000.00\n",
       "17  133900.00\n",
       "18   84975.00\n",
       "22  103786.92"
      ]
     },
     "execution_count": 17,
     "metadata": {},
     "output_type": "execute_result"
    }
   ],
   "source": [
    "surveysAfterIncrease.head()"
   ]
  },
  {
   "cell_type": "code",
   "execution_count": 22,
   "id": "61329b9f",
   "metadata": {},
   "outputs": [],
   "source": [
    "surveysTime=pd.read_csv('data/StackOverflowDeveloperSurvey2018.csv',usecols=['HoursOutside'],low_memory=False,squeeze=True).dropna()"
   ]
  },
  {
   "cell_type": "code",
   "execution_count": 19,
   "id": "a0a7c523",
   "metadata": {},
   "outputs": [
    {
     "data": {
      "text/plain": [
       "HoursOutside        \n",
       "1 - 2 hours             27788\n",
       "30 - 59 minutes         24002\n",
       "Less than 30 minutes    11223\n",
       "3 - 4 hours              7186\n",
       "Over 4 hours             1825\n",
       "dtype: int64"
      ]
     },
     "execution_count": 19,
     "metadata": {},
     "output_type": "execute_result"
    }
   ],
   "source": [
    "surveysTime.value_counts()"
   ]
  },
  {
   "cell_type": "code",
   "execution_count": 28,
   "id": "df6957eb",
   "metadata": {},
   "outputs": [],
   "source": [
    "surveysTime=surveysTime.str.upper()"
   ]
  },
  {
   "cell_type": "code",
   "execution_count": 29,
   "id": "104d5296",
   "metadata": {},
   "outputs": [
    {
     "data": {
      "text/plain": [
       "0                 1 - 2 HOURS\n",
       "1             30 - 59 MINUTES\n",
       "3        LESS THAN 30 MINUTES\n",
       "4                 1 - 2 HOURS\n",
       "5             30 - 59 MINUTES\n",
       "                 ...         \n",
       "93408             1 - 2 HOURS\n",
       "93416             3 - 4 HOURS\n",
       "93435             1 - 2 HOURS\n",
       "93442    LESS THAN 30 MINUTES\n",
       "93462             1 - 2 HOURS\n",
       "Name: HoursOutside, Length: 72024, dtype: object"
      ]
     },
     "execution_count": 29,
     "metadata": {},
     "output_type": "execute_result"
    }
   ],
   "source": [
    "surveysTime"
   ]
  },
  {
   "cell_type": "code",
   "execution_count": 30,
   "id": "a6f316ac",
   "metadata": {},
   "outputs": [],
   "source": [
    "surveysTime = surveysTime.apply(lambda atext: atext.lower())"
   ]
  },
  {
   "cell_type": "code",
   "execution_count": 31,
   "id": "b7a95df9",
   "metadata": {},
   "outputs": [
    {
     "data": {
      "text/plain": [
       "0                 1 - 2 hours\n",
       "1             30 - 59 minutes\n",
       "3        less than 30 minutes\n",
       "4                 1 - 2 hours\n",
       "5             30 - 59 minutes\n",
       "                 ...         \n",
       "93408             1 - 2 hours\n",
       "93416             3 - 4 hours\n",
       "93435             1 - 2 hours\n",
       "93442    less than 30 minutes\n",
       "93462             1 - 2 hours\n",
       "Name: HoursOutside, Length: 72024, dtype: object"
      ]
     },
     "execution_count": 31,
     "metadata": {},
     "output_type": "execute_result"
    }
   ],
   "source": [
    "surveysTime"
   ]
  },
  {
   "cell_type": "code",
   "execution_count": 37,
   "id": "9f3ec328",
   "metadata": {},
   "outputs": [],
   "source": [
    "def ChangeDescription (napis):\n",
    "    if napis == 'less than 30 minutes':\n",
    "        return 'LESS THAN HALF HOUR'\n",
    "    else: napis"
   ]
  },
  {
   "cell_type": "code",
   "execution_count": 38,
   "id": "230a6011",
   "metadata": {},
   "outputs": [
    {
     "data": {
      "text/plain": [
       "'LESS THAN HALF HOUR'"
      ]
     },
     "execution_count": 38,
     "metadata": {},
     "output_type": "execute_result"
    }
   ],
   "source": [
    "ChangeDescription('less than 30 minutes')"
   ]
  },
  {
   "cell_type": "code",
   "execution_count": 40,
   "id": "8353338c",
   "metadata": {},
   "outputs": [],
   "source": [
    "ChangeDescription('dupa')"
   ]
  },
  {
   "cell_type": "code",
   "execution_count": 41,
   "id": "7150c77a",
   "metadata": {},
   "outputs": [],
   "source": [
    "surveysTime2 = surveysTime.apply(ChangeDescription)"
   ]
  },
  {
   "cell_type": "code",
   "execution_count": 43,
   "id": "877f3b93",
   "metadata": {},
   "outputs": [
    {
     "data": {
      "text/plain": [
       "LESS THAN HALF HOUR    11223\n",
       "Name: HoursOutside, dtype: int64"
      ]
     },
     "execution_count": 43,
     "metadata": {},
     "output_type": "execute_result"
    }
   ],
   "source": [
    "surveysTime2.value_counts()"
   ]
  },
  {
   "cell_type": "code",
   "execution_count": 44,
   "id": "ef746c16",
   "metadata": {},
   "outputs": [
    {
     "data": {
      "text/plain": [
       "0                     None\n",
       "1                     None\n",
       "3      LESS THAN HALF HOUR\n",
       "4                     None\n",
       "5                     None\n",
       "              ...         \n",
       "129                   None\n",
       "131                   None\n",
       "132                   None\n",
       "133                   None\n",
       "134    LESS THAN HALF HOUR\n",
       "Name: HoursOutside, Length: 100, dtype: object"
      ]
     },
     "execution_count": 44,
     "metadata": {},
     "output_type": "execute_result"
    }
   ],
   "source": [
    "surveysTime2.head(100)"
   ]
  },
  {
   "cell_type": "code",
   "execution_count": null,
   "id": "0dda1bdf",
   "metadata": {},
   "outputs": [],
   "source": []
  }
 ],
 "metadata": {
  "kernelspec": {
   "display_name": "Python 3",
   "language": "python",
   "name": "python3"
  },
  "language_info": {
   "codemirror_mode": {
    "name": "ipython",
    "version": 3
   },
   "file_extension": ".py",
   "mimetype": "text/x-python",
   "name": "python",
   "nbconvert_exporter": "python",
   "pygments_lexer": "ipython3",
   "version": "3.8.8"
  }
 },
 "nbformat": 4,
 "nbformat_minor": 5
}
