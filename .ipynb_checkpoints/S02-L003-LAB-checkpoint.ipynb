{
 "cells": [
  {
   "cell_type": "code",
   "execution_count": 5,
   "id": "1ed7a4b7",
   "metadata": {},
   "outputs": [],
   "source": [
    "import pandas as pd\n",
    "import numpy as np\n",
    "import matplotlib.pyplot as plt\n",
    "import math as math\n"
   ]
  },
  {
   "cell_type": "code",
   "execution_count": 2,
   "id": "75144e79",
   "metadata": {},
   "outputs": [],
   "source": [
    "weekdays =['monday','tuesday','wednsday','thursday','friday','saturday','sunday']"
   ]
  },
  {
   "cell_type": "code",
   "execution_count": 3,
   "id": "4f6ef6e0",
   "metadata": {},
   "outputs": [
    {
     "data": {
      "text/plain": [
       "['monday', 'thusday', 'wensday', 'trougsday', 'friday', 'saturday', 'sunday']"
      ]
     },
     "execution_count": 3,
     "metadata": {},
     "output_type": "execute_result"
    }
   ],
   "source": [
    "weekdays"
   ]
  },
  {
   "cell_type": "code",
   "execution_count": 17,
   "id": "5cdc25f8",
   "metadata": {},
   "outputs": [],
   "source": [
    "freedays=[True,True,True,True,True,False,False]"
   ]
  },
  {
   "cell_type": "code",
   "execution_count": 18,
   "id": "8777e046",
   "metadata": {},
   "outputs": [],
   "source": [
    "weekdaysSeries = pd.Series(weekdays)"
   ]
  },
  {
   "cell_type": "code",
   "execution_count": 19,
   "id": "d893043d",
   "metadata": {},
   "outputs": [
    {
     "data": {
      "text/plain": [
       "0       monday\n",
       "1      thusday\n",
       "2      wensday\n",
       "3    trougsday\n",
       "4       friday\n",
       "5     saturday\n",
       "6       sunday\n",
       "dtype: object"
      ]
     },
     "execution_count": 19,
     "metadata": {},
     "output_type": "execute_result"
    }
   ],
   "source": [
    "weekdaysSeries"
   ]
  },
  {
   "cell_type": "code",
   "execution_count": 20,
   "id": "767e94d3",
   "metadata": {},
   "outputs": [],
   "source": [
    "freeDaysSeries=pd.Series(freedays)"
   ]
  },
  {
   "cell_type": "code",
   "execution_count": 21,
   "id": "0bbf7dfb",
   "metadata": {},
   "outputs": [
    {
     "data": {
      "text/plain": [
       "0     True\n",
       "1     True\n",
       "2     True\n",
       "3     True\n",
       "4     True\n",
       "5    False\n",
       "6    False\n",
       "dtype: bool"
      ]
     },
     "execution_count": 21,
     "metadata": {},
     "output_type": "execute_result"
    }
   ],
   "source": [
    "freeDaysSeries"
   ]
  },
  {
   "cell_type": "code",
   "execution_count": 13,
   "id": "3da8c576",
   "metadata": {},
   "outputs": [],
   "source": [
    "holidays={'New Year':'2018-01-01','Epiphany':'2018-01-06','Easter':'2018-04-01'}"
   ]
  },
  {
   "cell_type": "code",
   "execution_count": 14,
   "id": "4fc78533",
   "metadata": {},
   "outputs": [],
   "source": [
    "holidaysSeries=pd.Series(holidays)"
   ]
  },
  {
   "cell_type": "code",
   "execution_count": 15,
   "id": "aacc4502",
   "metadata": {},
   "outputs": [
    {
     "data": {
      "text/plain": [
       "New Year    2018-01-01\n",
       "Epiphany    2018-01-06\n",
       "Easter      2018-04-01\n",
       "dtype: object"
      ]
     },
     "execution_count": 15,
     "metadata": {},
     "output_type": "execute_result"
    }
   ],
   "source": [
    "holidaysSeries"
   ]
  },
  {
   "cell_type": "code",
   "execution_count": null,
   "id": "790647e6",
   "metadata": {},
   "outputs": [],
   "source": []
  }
 ],
 "metadata": {
  "kernelspec": {
   "display_name": "Python 3",
   "language": "python",
   "name": "python3"
  },
  "language_info": {
   "codemirror_mode": {
    "name": "ipython",
    "version": 3
   },
   "file_extension": ".py",
   "mimetype": "text/x-python",
   "name": "python",
   "nbconvert_exporter": "python",
   "pygments_lexer": "ipython3",
   "version": "3.8.8"
  }
 },
 "nbformat": 4,
 "nbformat_minor": 5
}
