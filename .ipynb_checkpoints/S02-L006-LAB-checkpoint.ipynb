{
 "cells": [
  {
   "cell_type": "code",
   "execution_count": 2,
   "id": "fe1ca09a",
   "metadata": {},
   "outputs": [],
   "source": [
    "import pandas as pd\n",
    "import numpy as np\n",
    "import matplotlib.pyplot as plt\n",
    "import math as math\n"
   ]
  },
  {
   "cell_type": "code",
   "execution_count": 3,
   "id": "963cf6ce",
   "metadata": {},
   "outputs": [],
   "source": [
    "wiek =['do 6','7-14','15-17','18-24','25-39','40-59','60 i pow']"
   ]
  },
  {
   "cell_type": "code",
   "execution_count": 4,
   "id": "c002a05e",
   "metadata": {},
   "outputs": [
    {
     "data": {
      "text/plain": [
       "['do 6', '7-14', '15-17', '18-24', '25-39', '40-59', '60 i pow']"
      ]
     },
     "execution_count": 4,
     "metadata": {},
     "output_type": "execute_result"
    }
   ],
   "source": [
    "wiek"
   ]
  },
  {
   "cell_type": "code",
   "execution_count": 5,
   "id": "60507402",
   "metadata": {},
   "outputs": [],
   "source": [
    "ilosc_wypadkow=[14,334,312,5823,9491,7486,4343]"
   ]
  },
  {
   "cell_type": "code",
   "execution_count": 6,
   "id": "529ff843",
   "metadata": {},
   "outputs": [],
   "source": [
    "incidents=pd.Series(ilosc_wypadkow,wiek)"
   ]
  },
  {
   "cell_type": "code",
   "execution_count": 7,
   "id": "52b1529e",
   "metadata": {},
   "outputs": [
    {
     "data": {
      "text/plain": [
       "do 6          14\n",
       "7-14         334\n",
       "15-17        312\n",
       "18-24       5823\n",
       "25-39       9491\n",
       "40-59       7486\n",
       "60 i pow    4343\n",
       "dtype: int64"
      ]
     },
     "execution_count": 7,
     "metadata": {},
     "output_type": "execute_result"
    }
   ],
   "source": [
    "incidents"
   ]
  },
  {
   "cell_type": "code",
   "execution_count": 8,
   "id": "66bff73d",
   "metadata": {},
   "outputs": [
    {
     "data": {
      "text/plain": [
       "do 6           NaN\n",
       "7-14           NaN\n",
       "15-17          NaN\n",
       "18-24       5823.0\n",
       "25-39       9491.0\n",
       "40-59       7486.0\n",
       "60 i pow    4343.0\n",
       "dtype: float64"
      ]
     },
     "execution_count": 8,
     "metadata": {},
     "output_type": "execute_result"
    }
   ],
   "source": [
    "incidents.where(incidents>1000)"
   ]
  },
  {
   "cell_type": "code",
   "execution_count": 9,
   "id": "edf84441",
   "metadata": {},
   "outputs": [
    {
     "data": {
      "text/plain": [
       "18-24       5823.0\n",
       "25-39       9491.0\n",
       "40-59       7486.0\n",
       "60 i pow    4343.0\n",
       "dtype: float64"
      ]
     },
     "execution_count": 9,
     "metadata": {},
     "output_type": "execute_result"
    }
   ],
   "source": [
    "incidents.where(incidents>1000).dropna()"
   ]
  },
  {
   "cell_type": "code",
   "execution_count": 11,
   "id": "46863e97",
   "metadata": {},
   "outputs": [],
   "source": [
    "incidents1000=incidents.where(incidents>1000).dropna()"
   ]
  },
  {
   "cell_type": "code",
   "execution_count": 12,
   "id": "01221aab",
   "metadata": {},
   "outputs": [
    {
     "data": {
      "text/plain": [
       "18-24       5823.0\n",
       "25-39       9491.0\n",
       "40-59       7486.0\n",
       "60 i pow    4343.0\n",
       "dtype: float64"
      ]
     },
     "execution_count": 12,
     "metadata": {},
     "output_type": "execute_result"
    }
   ],
   "source": [
    "incidents1000"
   ]
  },
  {
   "cell_type": "code",
   "execution_count": 13,
   "id": "4554da48",
   "metadata": {},
   "outputs": [
    {
     "data": {
      "text/plain": [
       "do 6          14\n",
       "7-14         334\n",
       "15-17        312\n",
       "18-24       5823\n",
       "25-39       9491\n",
       "40-59       7486\n",
       "60 i pow    4343\n",
       "dtype: int64"
      ]
     },
     "execution_count": 13,
     "metadata": {},
     "output_type": "execute_result"
    }
   ],
   "source": [
    "incidents"
   ]
  },
  {
   "cell_type": "code",
   "execution_count": 15,
   "id": "c6f92d7f",
   "metadata": {},
   "outputs": [
    {
     "data": {
      "text/plain": [
       "18-24    5823\n",
       "25-39    9491\n",
       "40-59    7486\n",
       "dtype: int64"
      ]
     },
     "execution_count": 15,
     "metadata": {},
     "output_type": "execute_result"
    }
   ],
   "source": [
    "incidents.filter(items=['18-24','25-39','40-59'])"
   ]
  },
  {
   "cell_type": "code",
   "execution_count": 16,
   "id": "528afdf3",
   "metadata": {},
   "outputs": [],
   "source": [
    "incidents.where(incidents <=1000,inplace = True)"
   ]
  },
  {
   "cell_type": "code",
   "execution_count": 19,
   "id": "8fb14c28",
   "metadata": {},
   "outputs": [],
   "source": [
    "incidents.dropna(inplace=True)"
   ]
  },
  {
   "cell_type": "code",
   "execution_count": 21,
   "id": "14df68a8",
   "metadata": {},
   "outputs": [
    {
     "data": {
      "text/plain": [
       "do 6      14.0\n",
       "7-14     334.0\n",
       "15-17    312.0\n",
       "dtype: float64"
      ]
     },
     "execution_count": 21,
     "metadata": {},
     "output_type": "execute_result"
    }
   ],
   "source": [
    "incidents"
   ]
  },
  {
   "cell_type": "code",
   "execution_count": null,
   "id": "8c4edf23",
   "metadata": {},
   "outputs": [],
   "source": []
  }
 ],
 "metadata": {
  "kernelspec": {
   "display_name": "Python 3",
   "language": "python",
   "name": "python3"
  },
  "language_info": {
   "codemirror_mode": {
    "name": "ipython",
    "version": 3
   },
   "file_extension": ".py",
   "mimetype": "text/x-python",
   "name": "python",
   "nbconvert_exporter": "python",
   "pygments_lexer": "ipython3",
   "version": "3.8.8"
  }
 },
 "nbformat": 4,
 "nbformat_minor": 5
}
