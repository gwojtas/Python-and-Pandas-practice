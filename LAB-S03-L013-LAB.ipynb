{
 "cells": [
  {
   "cell_type": "code",
   "execution_count": 1,
   "id": "2535d216",
   "metadata": {},
   "outputs": [
    {
     "data": {
      "text/html": [
       "<div>\n",
       "<style scoped>\n",
       "    .dataframe tbody tr th:only-of-type {\n",
       "        vertical-align: middle;\n",
       "    }\n",
       "\n",
       "    .dataframe tbody tr th {\n",
       "        vertical-align: top;\n",
       "    }\n",
       "\n",
       "    .dataframe thead th {\n",
       "        text-align: right;\n",
       "    }\n",
       "</style>\n",
       "<table border=\"1\" class=\"dataframe\">\n",
       "  <thead>\n",
       "    <tr style=\"text-align: right;\">\n",
       "      <th></th>\n",
       "      <th>Country</th>\n",
       "      <th>OperatingSystem</th>\n",
       "      <th>Gender</th>\n",
       "    </tr>\n",
       "  </thead>\n",
       "  <tbody>\n",
       "    <tr>\n",
       "      <th>0</th>\n",
       "      <td>Kenya</td>\n",
       "      <td>Linux-based</td>\n",
       "      <td>Male</td>\n",
       "    </tr>\n",
       "    <tr>\n",
       "      <th>1</th>\n",
       "      <td>United Kingdom</td>\n",
       "      <td>Linux-based</td>\n",
       "      <td>Male</td>\n",
       "    </tr>\n",
       "    <tr>\n",
       "      <th>2</th>\n",
       "      <td>United States</td>\n",
       "      <td>NaN</td>\n",
       "      <td>NaN</td>\n",
       "    </tr>\n",
       "    <tr>\n",
       "      <th>3</th>\n",
       "      <td>United States</td>\n",
       "      <td>Windows</td>\n",
       "      <td>Male</td>\n",
       "    </tr>\n",
       "    <tr>\n",
       "      <th>4</th>\n",
       "      <td>South Africa</td>\n",
       "      <td>Windows</td>\n",
       "      <td>Male</td>\n",
       "    </tr>\n",
       "  </tbody>\n",
       "</table>\n",
       "</div>"
      ],
      "text/plain": [
       "          Country OperatingSystem Gender\n",
       "0           Kenya     Linux-based   Male\n",
       "1  United Kingdom     Linux-based   Male\n",
       "2   United States             NaN    NaN\n",
       "3   United States         Windows   Male\n",
       "4    South Africa         Windows   Male"
      ]
     },
     "execution_count": 1,
     "metadata": {},
     "output_type": "execute_result"
    }
   ],
   "source": [
    "import pandas as pd\n",
    "import numpy as np\n",
    "surveys = pd.read_csv(\"data/StackOverflowDeveloperSurvey2018.csv\",\n",
    "usecols=['Country','Gender','OperatingSystem'],\n",
    "low_memory=False)\n",
    "surveys.head()"
   ]
  },
  {
   "cell_type": "code",
   "execution_count": 2,
   "id": "30e767a7",
   "metadata": {},
   "outputs": [
    {
     "data": {
      "text/plain": [
       "False"
      ]
     },
     "execution_count": 2,
     "metadata": {},
     "output_type": "execute_result"
    }
   ],
   "source": [
    "surveys['Country'].is_unique"
   ]
  },
  {
   "cell_type": "code",
   "execution_count": 5,
   "id": "49859d01",
   "metadata": {},
   "outputs": [
    {
     "data": {
      "text/plain": [
       "array(['Kenya', 'United Kingdom', 'United States', 'South Africa',\n",
       "       'Nigeria', 'India', 'Spain', 'Croatia', 'Netherlands', 'Israel',\n",
       "       'Sweden', 'Chile', 'Australia', 'Greece', 'Poland', 'Belgium',\n",
       "       'Argentina', 'Germany', 'Russian Federation', 'Indonesia',\n",
       "       'Ireland', 'France', 'Ukraine', 'Denmark', 'Dominican Republic',\n",
       "       'China', 'Latvia', 'Algeria', 'Colombia', 'Japan', 'Finland',\n",
       "       'Romania', 'Brazil', 'Bulgaria', 'Iran, Islamic Republic of...',\n",
       "       'Nepal', 'Bangladesh', 'Pakistan', 'Canada', 'Jordan', 'Portugal',\n",
       "       'Italy', 'New Zealand', 'Turkey', 'Czech Republic', 'Viet Nam',\n",
       "       'Austria', 'Egypt', 'Malaysia', 'Mozambique', 'Thailand',\n",
       "       'Slovakia', 'Lebanon', 'Mexico', 'Hong Kong (S.A.R.)', 'Norway',\n",
       "       'Myanmar', 'Switzerland', 'South Korea', 'Hungary', 'Armenia',\n",
       "       'Kazakhstan', 'United Arab Emirates', 'Singapore', 'Qatar',\n",
       "       'Bosnia and Herzegovina', 'Bahrain', 'Sri Lanka', 'Cambodia',\n",
       "       'Serbia', 'Philippines', 'Peru', 'Botswana', 'Paraguay', 'Georgia',\n",
       "       'Uruguay', 'Belarus', 'Lithuania', 'Afghanistan', 'Estonia',\n",
       "       'Malta', 'Costa Rica', 'Ghana', 'Taiwan', 'Morocco', 'Albania',\n",
       "       'Saudi Arabia', 'Slovenia', 'Uzbekistan', 'Republic of Korea',\n",
       "       'El Salvador', 'Iceland', 'Venezuela, Bolivarian Republic of...',\n",
       "       'Nicaragua', 'Other Country (Not Listed Above)', 'Tunisia',\n",
       "       'The former Yugoslav Republic of Macedonia',\n",
       "       'Micronesia, Federated States of...', 'Madagascar', 'Rwanda',\n",
       "       'Yemen', 'Uganda', 'United Republic of Tanzania', 'Cameroon',\n",
       "       'Cuba', 'Ethiopia', 'Oman', 'Ecuador', 'Angola',\n",
       "       'Republic of Moldova', 'Honduras', 'Azerbaijan', 'Cyprus',\n",
       "       'Bhutan', 'Guatemala', 'Syrian Arab Republic', 'Kuwait',\n",
       "       'Luxembourg', 'Jamaica', 'Zimbabwe', 'San Marino', 'Fiji',\n",
       "       'Liechtenstein', 'Burundi', 'Bolivia', 'Mauritius', 'Somalia',\n",
       "       'Montenegro', 'Mongolia', 'Sudan', 'Maldives', 'Turkmenistan',\n",
       "       'Panama', 'Barbados', 'Lesotho', 'Namibia', 'Gabon', 'Kyrgyzstan',\n",
       "       'Swaziland', 'Antigua and Barbuda', 'Marshall Islands',\n",
       "       'Trinidad and Tobago', 'Senegal', 'Iraq', 'Haiti', 'Malawi',\n",
       "       'Benin', 'Libyan Arab Jamahiriya', 'Tajikistan',\n",
       "       'Democratic Republic of the Congo', 'Andorra', 'Guinea',\n",
       "       \"Côte d'Ivoire\", 'Bahamas', 'Central African Republic', 'Monaco',\n",
       "       'Gambia', 'Sierra Leone', 'Togo', 'Palau', 'Zambia', 'Grenada',\n",
       "       'Burkina Faso', 'Belize', 'Congo, Republic of the...', 'Suriname',\n",
       "       'Timor-Leste', 'Dominica', 'Solomon Islands', 'Saint Lucia',\n",
       "       'Niger', 'Guyana', 'Nauru', 'Mauritania', 'Mali', 'Liberia',\n",
       "       'Brunei Darussalam', 'North Korea', 'Cape Verde', 'Eritrea',\n",
       "       \"Democratic People's Republic of Korea\", 'Djibouti', nan,\n",
       "       'Guinea-Bissau'], dtype=object)"
      ]
     },
     "execution_count": 5,
     "metadata": {},
     "output_type": "execute_result"
    }
   ],
   "source": [
    "surveys['Country'].unique()"
   ]
  },
  {
   "cell_type": "code",
   "execution_count": 6,
   "id": "d0e66084",
   "metadata": {},
   "outputs": [
    {
     "data": {
      "text/plain": [
       "183"
      ]
     },
     "execution_count": 6,
     "metadata": {},
     "output_type": "execute_result"
    }
   ],
   "source": [
    "surveys['Country'].nunique()"
   ]
  },
  {
   "cell_type": "code",
   "execution_count": 7,
   "id": "22939835",
   "metadata": {},
   "outputs": [
    {
     "data": {
      "text/plain": [
       "184"
      ]
     },
     "execution_count": 7,
     "metadata": {},
     "output_type": "execute_result"
    }
   ],
   "source": [
    "len(surveys['Country'].unique())"
   ]
  },
  {
   "cell_type": "code",
   "execution_count": 8,
   "id": "f2aa031e",
   "metadata": {},
   "outputs": [],
   "source": [
    "duplicatesKeepFirst=surveys['Country'].duplicated(keep='first')"
   ]
  },
  {
   "cell_type": "code",
   "execution_count": 9,
   "id": "7c885aa4",
   "metadata": {},
   "outputs": [
    {
     "data": {
      "text/plain": [
       "0        False\n",
       "1        False\n",
       "2        False\n",
       "3         True\n",
       "4        False\n",
       "         ...  \n",
       "98850     True\n",
       "98851     True\n",
       "98852     True\n",
       "98853     True\n",
       "98854     True\n",
       "Name: Country, Length: 98855, dtype: bool"
      ]
     },
     "execution_count": 9,
     "metadata": {},
     "output_type": "execute_result"
    }
   ],
   "source": [
    "duplicatesKeepFirst"
   ]
  },
  {
   "cell_type": "code",
   "execution_count": 10,
   "id": "5ef046a4",
   "metadata": {},
   "outputs": [
    {
     "data": {
      "text/html": [
       "<div>\n",
       "<style scoped>\n",
       "    .dataframe tbody tr th:only-of-type {\n",
       "        vertical-align: middle;\n",
       "    }\n",
       "\n",
       "    .dataframe tbody tr th {\n",
       "        vertical-align: top;\n",
       "    }\n",
       "\n",
       "    .dataframe thead th {\n",
       "        text-align: right;\n",
       "    }\n",
       "</style>\n",
       "<table border=\"1\" class=\"dataframe\">\n",
       "  <thead>\n",
       "    <tr style=\"text-align: right;\">\n",
       "      <th></th>\n",
       "      <th>Country</th>\n",
       "      <th>OperatingSystem</th>\n",
       "      <th>Gender</th>\n",
       "    </tr>\n",
       "  </thead>\n",
       "  <tbody>\n",
       "    <tr>\n",
       "      <th>0</th>\n",
       "      <td>Kenya</td>\n",
       "      <td>Linux-based</td>\n",
       "      <td>Male</td>\n",
       "    </tr>\n",
       "    <tr>\n",
       "      <th>1</th>\n",
       "      <td>United Kingdom</td>\n",
       "      <td>Linux-based</td>\n",
       "      <td>Male</td>\n",
       "    </tr>\n",
       "    <tr>\n",
       "      <th>2</th>\n",
       "      <td>United States</td>\n",
       "      <td>NaN</td>\n",
       "      <td>NaN</td>\n",
       "    </tr>\n",
       "    <tr>\n",
       "      <th>4</th>\n",
       "      <td>South Africa</td>\n",
       "      <td>Windows</td>\n",
       "      <td>Male</td>\n",
       "    </tr>\n",
       "    <tr>\n",
       "      <th>7</th>\n",
       "      <td>Nigeria</td>\n",
       "      <td>Windows</td>\n",
       "      <td>Female</td>\n",
       "    </tr>\n",
       "    <tr>\n",
       "      <th>...</th>\n",
       "      <td>...</td>\n",
       "      <td>...</td>\n",
       "      <td>...</td>\n",
       "    </tr>\n",
       "    <tr>\n",
       "      <th>86051</th>\n",
       "      <td>Eritrea</td>\n",
       "      <td>Linux-based</td>\n",
       "      <td>Male</td>\n",
       "    </tr>\n",
       "    <tr>\n",
       "      <th>89738</th>\n",
       "      <td>Democratic People's Republic of Korea</td>\n",
       "      <td>NaN</td>\n",
       "      <td>NaN</td>\n",
       "    </tr>\n",
       "    <tr>\n",
       "      <th>92028</th>\n",
       "      <td>Djibouti</td>\n",
       "      <td>NaN</td>\n",
       "      <td>NaN</td>\n",
       "    </tr>\n",
       "    <tr>\n",
       "      <th>93487</th>\n",
       "      <td>NaN</td>\n",
       "      <td>NaN</td>\n",
       "      <td>NaN</td>\n",
       "    </tr>\n",
       "    <tr>\n",
       "      <th>96975</th>\n",
       "      <td>Guinea-Bissau</td>\n",
       "      <td>NaN</td>\n",
       "      <td>NaN</td>\n",
       "    </tr>\n",
       "  </tbody>\n",
       "</table>\n",
       "<p>184 rows × 3 columns</p>\n",
       "</div>"
      ],
      "text/plain": [
       "                                     Country OperatingSystem  Gender\n",
       "0                                      Kenya     Linux-based    Male\n",
       "1                             United Kingdom     Linux-based    Male\n",
       "2                              United States             NaN     NaN\n",
       "4                               South Africa         Windows    Male\n",
       "7                                    Nigeria         Windows  Female\n",
       "...                                      ...             ...     ...\n",
       "86051                                Eritrea     Linux-based    Male\n",
       "89738  Democratic People's Republic of Korea             NaN     NaN\n",
       "92028                               Djibouti             NaN     NaN\n",
       "93487                                    NaN             NaN     NaN\n",
       "96975                          Guinea-Bissau             NaN     NaN\n",
       "\n",
       "[184 rows x 3 columns]"
      ]
     },
     "execution_count": 10,
     "metadata": {},
     "output_type": "execute_result"
    }
   ],
   "source": [
    "surveys[~duplicatesKeepFirst]"
   ]
  },
  {
   "cell_type": "code",
   "execution_count": 13,
   "id": "c4e1aa10",
   "metadata": {},
   "outputs": [],
   "source": [
    "surveys.drop_duplicates(subset=['Country','OperatingSystem'],inplace=True)"
   ]
  },
  {
   "cell_type": "code",
   "execution_count": 16,
   "id": "36c8f155",
   "metadata": {},
   "outputs": [
    {
     "data": {
      "text/html": [
       "<div>\n",
       "<style scoped>\n",
       "    .dataframe tbody tr th:only-of-type {\n",
       "        vertical-align: middle;\n",
       "    }\n",
       "\n",
       "    .dataframe tbody tr th {\n",
       "        vertical-align: top;\n",
       "    }\n",
       "\n",
       "    .dataframe thead th {\n",
       "        text-align: right;\n",
       "    }\n",
       "</style>\n",
       "<table border=\"1\" class=\"dataframe\">\n",
       "  <thead>\n",
       "    <tr style=\"text-align: right;\">\n",
       "      <th></th>\n",
       "      <th>Country</th>\n",
       "      <th>OperatingSystem</th>\n",
       "      <th>Gender</th>\n",
       "    </tr>\n",
       "  </thead>\n",
       "  <tbody>\n",
       "    <tr>\n",
       "      <th>30</th>\n",
       "      <td>Poland</td>\n",
       "      <td>Linux-based</td>\n",
       "      <td>Male</td>\n",
       "    </tr>\n",
       "    <tr>\n",
       "      <th>34</th>\n",
       "      <td>Poland</td>\n",
       "      <td>Windows</td>\n",
       "      <td>Male</td>\n",
       "    </tr>\n",
       "    <tr>\n",
       "      <th>232</th>\n",
       "      <td>Poland</td>\n",
       "      <td>NaN</td>\n",
       "      <td>NaN</td>\n",
       "    </tr>\n",
       "    <tr>\n",
       "      <th>854</th>\n",
       "      <td>Poland</td>\n",
       "      <td>MacOS</td>\n",
       "      <td>Male</td>\n",
       "    </tr>\n",
       "    <tr>\n",
       "      <th>72587</th>\n",
       "      <td>Poland</td>\n",
       "      <td>BSD/Unix</td>\n",
       "      <td>NaN</td>\n",
       "    </tr>\n",
       "  </tbody>\n",
       "</table>\n",
       "</div>"
      ],
      "text/plain": [
       "      Country OperatingSystem Gender\n",
       "30     Poland     Linux-based   Male\n",
       "34     Poland         Windows   Male\n",
       "232    Poland             NaN    NaN\n",
       "854    Poland           MacOS   Male\n",
       "72587  Poland        BSD/Unix    NaN"
      ]
     },
     "execution_count": 16,
     "metadata": {},
     "output_type": "execute_result"
    }
   ],
   "source": [
    "surveys.query(\"Country=='Poland'\")"
   ]
  },
  {
   "cell_type": "code",
   "execution_count": null,
   "id": "cf509315",
   "metadata": {},
   "outputs": [],
   "source": []
  }
 ],
 "metadata": {
  "kernelspec": {
   "display_name": "Python 3",
   "language": "python",
   "name": "python3"
  },
  "language_info": {
   "codemirror_mode": {
    "name": "ipython",
    "version": 3
   },
   "file_extension": ".py",
   "mimetype": "text/x-python",
   "name": "python",
   "nbconvert_exporter": "python",
   "pygments_lexer": "ipython3",
   "version": "3.8.8"
  }
 },
 "nbformat": 4,
 "nbformat_minor": 5
}
